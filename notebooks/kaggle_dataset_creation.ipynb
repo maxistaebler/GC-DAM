{
 "cells": [
  {
   "cell_type": "markdown",
   "metadata": {},
   "source": [
    "# Kaggle Dataset Creation\n",
    "\n",
    "It is important that you sign up for the Kaggle API and receive a API Token."
   ]
  },
  {
   "cell_type": "code",
   "execution_count": null,
   "metadata": {},
   "outputs": [],
   "source": [
    "import kaggle\n",
    "from kaggle.api.kaggle_api_extended import KaggleApi\n",
    "from tqdm.notebook import tqdm\n",
    "import pandas as pd\n",
    "import json"
   ]
  },
  {
   "cell_type": "code",
   "execution_count": null,
   "metadata": {},
   "outputs": [],
   "source": [
    "api = KaggleApi()\n",
    "api.authenticate()"
   ]
  },
  {
   "cell_type": "code",
   "execution_count": null,
   "metadata": {},
   "outputs": [],
   "source": [
    "# Limit to 15000 Datasets\n",
    "\n",
    "datasets = []\n",
    "for i in tqdm(range(15000)):\n",
    "    datasets.append(api.dataset_list(page=i + 1))"
   ]
  },
  {
   "cell_type": "code",
   "execution_count": 12,
   "metadata": {},
   "outputs": [],
   "source": [
    "full_idxs = []\n",
    "for idx, d in enumerate(datasets):\n",
    "    if datasets[idx]:\n",
    "        full_idxs.append(d)\n",
    "    else:\n",
    "        print(idx)"
   ]
  },
  {
   "cell_type": "code",
   "execution_count": 24,
   "metadata": {},
   "outputs": [],
   "source": [
    "flat_list = [\n",
    "    x\n",
    "    for xs in datasets\n",
    "    for x in xs\n",
    "]\n",
    "\n",
    "\n",
    "df = pd.DataFrame(flat_list, columns=['dataset'])"
   ]
  },
  {
   "cell_type": "markdown",
   "metadata": {},
   "source": [
    "### Retrieve Meta-data"
   ]
  },
  {
   "cell_type": "code",
   "execution_count": null,
   "metadata": {},
   "outputs": [],
   "source": [
    "path = f\"../../datasets/kaggle/metadata/\"\n",
    "metadata = {}\n",
    "error_log = []\n",
    "\n",
    "for dataset in tqdm(df['dataset'].values):\n",
    "   try:\n",
    "      res = api.dataset_metadata(dataset, path)\n",
    "   except Exception as e:\n",
    "      print(f\"API Request Error: {e}\")\n",
    "      error_log.append(dataset)\n",
    "      continue\n",
    "   with open(res, 'r') as JSON:\n",
    "      json_dict = json.load(JSON)\n",
    "   metadata[json_dict['id']] = json_dict\n",
    "   break"
   ]
  },
  {
   "cell_type": "code",
   "execution_count": null,
   "metadata": {},
   "outputs": [],
   "source": [
    "with open('../datasets/kaggle_dataset_metadata_10000.csv', 'w') as fp:\n",
    "    json.dump(metadata, fp)"
   ]
  },
  {
   "cell_type": "code",
   "execution_count": null,
   "metadata": {},
   "outputs": [],
   "source": []
  }
 ],
 "metadata": {
  "kernelspec": {
   "display_name": "venv",
   "language": "python",
   "name": "python3"
  },
  "language_info": {
   "codemirror_mode": {
    "name": "ipython",
    "version": 3
   },
   "file_extension": ".py",
   "mimetype": "text/x-python",
   "name": "python",
   "nbconvert_exporter": "python",
   "pygments_lexer": "ipython3",
   "version": "3.12.5"
  }
 },
 "nbformat": 4,
 "nbformat_minor": 2
}
