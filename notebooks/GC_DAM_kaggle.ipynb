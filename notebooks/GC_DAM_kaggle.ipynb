{
 "cells": [
  {
   "cell_type": "code",
   "execution_count": 22,
   "metadata": {},
   "outputs": [],
   "source": [
    "# from helpers import *\n",
    "import pandas as pd\n",
    "import numpy as np\n",
    "import seaborn as sns\n",
    "from gliner import GLiNER\n",
    "import ollama\n",
    "from node2vec import Node2Vec\n",
    "import networkx as nx\n",
    "import plotly\n",
    "import random\n",
    "from sklearn.feature_extraction.text import TfidfVectorizer\n",
    "from sklearn.metrics.pairwise import cosine_similarity\n",
    "from sklearn.decomposition import PCA\n",
    "import ast\n",
    "from langchain.text_splitter import RecursiveCharacterTextSplitter\n",
    "from datetime import datetime\n",
    "import pickle\n",
    "from tqdm.notebook import tqdm"
   ]
  },
  {
   "cell_type": "code",
   "execution_count": 7,
   "metadata": {},
   "outputs": [],
   "source": [
    "kaggle_dataset = pd.read_csv(\"../datasets/kaggle_dataset_metadata_10000.csv\")\n",
    "kaggle_dataset.fillna('', inplace=True)\n",
    "kaggle_dataset['keywords'] = kaggle_dataset['keywords'].apply(ast.literal_eval)\n",
    "dataset_idxs = list(kaggle_dataset['id'])"
   ]
  },
  {
   "cell_type": "code",
   "execution_count": null,
   "metadata": {},
   "outputs": [],
   "source": [
    "model = GLiNER.from_pretrained(\"urchade/gliner_mediumv2.1\")\n",
    "def create_splitter():\n",
    "    splitter = RecursiveCharacterTextSplitter(\n",
    "        chunk_size=500,\n",
    "        chunk_overlap=150,\n",
    "        length_function=len,\n",
    "        is_separator_regex=False,\n",
    "    )\n",
    "\n",
    "    return splitter\n",
    "\n",
    "labels = [\n",
    "    \"person\", \"award\", \"date\", \"competitions\", \"teams\", \"organization\", \"location\", \"event\", \"product\", \n",
    "    \"quantity\", \"money\", \"percent\", \"time\", \"gpe\", \"facility\", \"language\", \"work_of_art\", \"law\", \"nationality\", \n",
    "    \"title\", \"field_of_study\", \"measurement\", \"technology\"\n",
    "]\n",
    "\n",
    "splitter = create_splitter()"
   ]
  },
  {
   "cell_type": "markdown",
   "metadata": {},
   "source": [
    "# ER"
   ]
  },
  {
   "cell_type": "markdown",
   "metadata": {},
   "source": [
    "#### Extract own Entities"
   ]
  },
  {
   "cell_type": "code",
   "execution_count": null,
   "metadata": {},
   "outputs": [],
   "source": [
    "# nodes = []\n",
    "\n",
    "# for idx, row in tqdm(df_sample.iterrows()):\n",
    "#     text = row['titleNullable'] + row['subtitleNullable'] + row['descriptionNullable']\n",
    "#     # Load Text\n",
    "#     texts = splitter.create_documents([text])\n",
    "#     # Split Text\n",
    "#     pages = splitter.split_documents(texts)\n",
    "#     for p in pages:\n",
    "#         entities = model.predict_entities(p.page_content, labels, threshold=0.5)\n",
    "#         for entity in entities:\n",
    "#             nodes.append((entity[\"text\"].lower(), entity[\"label\"].lower(), row['id']))\n",
    "#             # print(entity[\"text\"].lower(), \"=>\", entity[\"label\"].lower())\n",
    "\n",
    "# print(len(list(set(nodes))))"
   ]
  },
  {
   "cell_type": "code",
   "execution_count": 9,
   "metadata": {},
   "outputs": [],
   "source": [
    "# with open('./assets/er_liste.pkl', 'wb') as f:\n",
    "#     pickle.dump(nodes, f)"
   ]
  },
  {
   "cell_type": "markdown",
   "metadata": {},
   "source": [
    "#### Load pre-extracted Entities"
   ]
  },
  {
   "cell_type": "code",
   "execution_count": 13,
   "metadata": {},
   "outputs": [],
   "source": [
    "# Load stored pickle\n",
    "\n",
    "with open('../assets/er_liste.pkl', 'rb') as handle:\n",
    "    nodes = pickle.load(handle)"
   ]
  },
  {
   "cell_type": "markdown",
   "metadata": {},
   "source": [
    "# Create Graph"
   ]
  },
  {
   "cell_type": "code",
   "execution_count": 14,
   "metadata": {},
   "outputs": [],
   "source": [
    "def increment_edge_weight(G, u, v):\n",
    "    if G.has_edge(u, v):\n",
    "        G[u][v]['weight'] += 1\n",
    "    else:\n",
    "        # Füge die Kante hinzu, falls sie noch nicht existiert, mit Gewicht 1\n",
    "        G.add_edge(u, v, weight=1)"
   ]
  },
  {
   "cell_type": "code",
   "execution_count": null,
   "metadata": {},
   "outputs": [],
   "source": [
    "# Create Graph\n",
    "G = nx.Graph()\n",
    "## Add Nodes\n",
    "for node in nodes:\n",
    "    if not G.has_node(node[0]):\n",
    "        G.add_node(\n",
    "            node[0].lower(),\n",
    "            type=\"entity\"\n",
    "        )\n",
    "    if not G.has_node(node[1]):\n",
    "        G.add_node(\n",
    "            node[1].lower(),\n",
    "            type=\"label\"\n",
    "        )\n",
    "    if not G.has_node(node[2]):\n",
    "        G.add_node(\n",
    "            node[2].lower(),\n",
    "            type=\"dataset\"\n",
    "        )\n",
    "    # Add tuple edges\n",
    "    increment_edge_weight(G, node[0].lower(), node[1].lower())\n",
    "    increment_edge_weight(G, node[1].lower(), node[2].lower())\n",
    "    increment_edge_weight(G, node[0].lower(), node[2].lower())\n",
    "\n",
    "# Beispiel: Anzahl der Knoten und Kanten anzeigen\n",
    "print(f\"Number of nodes: {G.number_of_nodes()}\")\n",
    "print(f\"Number of edges: {G.number_of_edges()}\")"
   ]
  },
  {
   "cell_type": "code",
   "execution_count": 31,
   "metadata": {},
   "outputs": [],
   "source": [
    "# Store Graph\n",
    "# nx.write_gexf(G, \"../assets/n2v_graph_full.gexf\")"
   ]
  },
  {
   "cell_type": "markdown",
   "metadata": {},
   "source": [
    "# Semantic Embedding"
   ]
  },
  {
   "cell_type": "code",
   "execution_count": null,
   "metadata": {},
   "outputs": [],
   "source": [
    "# description_emebeddings = []\n",
    "# for idx, row in tqdm(kaggle_dataset.iterrows()):\n",
    "#     t = row['title'] + row['subtitleNullable'] + row['descriptionNullable']\n",
    "#     response = ollama.embeddings(model=\"Losspost/stella_en_1.5b_v5\", prompt=t)\n",
    "#     description_emebeddings.append(response['embedding'])\n",
    "\n",
    "# description_embd = pd.DataFrame(description_emebeddings, index=kaggle_dataset['id']).reset_index()\n",
    "# description_embd.to_csv('../assets/kaggle_embeddings_stella_1.5b.csv')"
   ]
  },
  {
   "cell_type": "markdown",
   "metadata": {},
   "source": [
    "#### Load pre-trained Model\n",
    "\n",
    "Please download the file *kaggle_embeddings_stella_1.5b.csv* [here](https://drive.google.com/file/d/1138deudt3d6coLpm-Hd8fY5CU-qWlMa_/view?usp=sharing) and place it `../assets/kaggle_embeddings_stella_1.5b.csv`"
   ]
  },
  {
   "cell_type": "code",
   "execution_count": null,
   "metadata": {},
   "outputs": [],
   "source": [
    "description_embd = pd.read_csv('../assets/kaggle_embeddings_stella_1.5b.csv').drop('Unnamed: 0', axis = 1).rename(columns = {'id':'dataset'})\n",
    "print(description_embd.info())\n",
    "vectors_descriptions = np.array(description_embd.drop('dataset', axis=1).to_numpy())\n",
    "cosine_sim_descriptions = cosine_similarity(vectors_descriptions)\n",
    "cosine_sim_descriptions_df = pd.DataFrame(cosine_sim_descriptions, index=description_embd['dataset'], columns=description_embd['dataset'])\n",
    "cosine_sim_descriptions_df.head(3)"
   ]
  },
  {
   "cell_type": "markdown",
   "metadata": {},
   "source": [
    "# Graph Embedding"
   ]
  },
  {
   "cell_type": "code",
   "execution_count": null,
   "metadata": {},
   "outputs": [],
   "source": [
    "# node2vec = Node2Vec(G, dimensions=128, walk_length=40, num_walks=100, workers=2)\n",
    "# model = node2vec.fit(window=10, min_count=1)\n",
    "# model.wv.save_word2vec_format('./assets/KG_n2v_embedding.csv')\n",
    "# model.save('./assets/KG_n2v_model')"
   ]
  },
  {
   "cell_type": "markdown",
   "metadata": {},
   "source": [
    "#### Load Pretrained Model"
   ]
  },
  {
   "cell_type": "code",
   "execution_count": 18,
   "metadata": {},
   "outputs": [],
   "source": [
    "from gensim.models import Word2Vec\n",
    "model = Word2Vec.load('../assets/n2v_model')"
   ]
  },
  {
   "cell_type": "code",
   "execution_count": 19,
   "metadata": {},
   "outputs": [],
   "source": [
    "# Retrieve node embeddings\n",
    "node_ids = model.wv.index_to_key  # list of node IDs\n",
    "node_labels = model.wv.key_to_index\n",
    "node_embeddings = model.wv.vectors"
   ]
  },
  {
   "cell_type": "code",
   "execution_count": null,
   "metadata": {},
   "outputs": [],
   "source": [
    "n2v_embd = pd.DataFrame(node_embeddings, index=node_labels).reset_index().rename(columns = {'index':'dataset'})\n",
    "n2v_embd = n2v_embd[n2v_embd['dataset'].isin(dataset_idxs)]\n",
    "print(len(n2v_embd))\n",
    "n2v_embd.head(2)"
   ]
  },
  {
   "cell_type": "code",
   "execution_count": null,
   "metadata": {},
   "outputs": [],
   "source": [
    "vectors_n2v = np.array(n2v_embd.drop('dataset', axis=1).to_numpy())\n",
    "cosine_sim_n2v = cosine_similarity(vectors_n2v)\n",
    "cosine_sim_n2v_df = pd.DataFrame(cosine_sim_n2v, index=n2v_embd['dataset'], columns=n2v_embd['dataset'])\n",
    "cosine_sim_n2v_df.head(3)"
   ]
  },
  {
   "cell_type": "markdown",
   "metadata": {},
   "source": [
    "# Compare Results"
   ]
  },
  {
   "cell_type": "code",
   "execution_count": 58,
   "metadata": {},
   "outputs": [],
   "source": [
    "idxs = list(set(cosine_sim_n2v_df.index) & set(cosine_sim_descriptions_df.index))\n",
    "\n",
    "results = {}\n",
    "top_10_mappings = {}\n",
    "\n",
    "for idx in idxs:\n",
    "    # Description\n",
    "    arr_descriptions = cosine_sim_descriptions_df[cosine_sim_descriptions_df.index == idx].values[0]\n",
    "    ind_descriptions = np.argpartition(arr_descriptions, -10)[-10:]\n",
    "    descriptions_ = [cosine_sim_descriptions_df[cosine_sim_descriptions_df.index == idx].columns[x] for x in ind_descriptions]\n",
    "\n",
    "    # Graph\n",
    "    arr_graphs = cosine_sim_n2v_df[cosine_sim_n2v_df.index == idx].values[0]\n",
    "    ind_graphs = np.argpartition(arr_graphs, -10)[-10:]\n",
    "    graphs_ = [cosine_sim_n2v_df[cosine_sim_n2v_df.index == idx].columns[x] for x in ind_graphs]\n",
    "\n",
    "    # Create Top 10 Mapping\n",
    "    top_10_mappings[idx] = {\n",
    "        'semantic': descriptions_,\n",
    "        'contextual': graphs_\n",
    "    }\n",
    "\n",
    "    out_dict = {\n",
    "        \"semantic\": [],\n",
    "        \"semantic_similarity\": [],\n",
    "        \"graph\": [],\n",
    "        \"graph_similarity\": []\n",
    "    }\n",
    "    for d, g in zip(descriptions_, graphs_):\n",
    "\n",
    "        reference_string = kaggle_dataset[kaggle_dataset['id'] == idx]['title'].values[0]\n",
    "        graph_string = kaggle_dataset[kaggle_dataset['id'] == g]['title'].values[0]\n",
    "        semantic_string = kaggle_dataset[kaggle_dataset['id'] == d]['title'].values[0]\n",
    "\n",
    "        vectorizer_semantic = TfidfVectorizer()\n",
    "        vectorizer_graph = TfidfVectorizer()\n",
    "        tfidf_matrix_graph = vectorizer_semantic.fit_transform([reference_string, graph_string])\n",
    "        tfidf_matrix_semantic = vectorizer_graph.fit_transform([reference_string, semantic_string])\n",
    "\n",
    "        similarity_graph = cosine_similarity(tfidf_matrix_graph[0:1], tfidf_matrix_graph[1:2])\n",
    "        similarity_semantic = cosine_similarity(tfidf_matrix_semantic[0:1], tfidf_matrix_semantic[1:2])\n",
    "\n",
    "        out_dict['graph'].append(graph_string)\n",
    "        out_dict['graph_similarity'].append(round(similarity_graph[0][0], 2))\n",
    "        out_dict['semantic'].append(semantic_string)\n",
    "        out_dict['semantic_similarity'].append(round(similarity_semantic[0][0], 2))\n",
    "\n",
    "    set1 = set(out_dict['graph'])\n",
    "    set2 = set(out_dict['semantic'])\n",
    "\n",
    "    common_entries = set1.intersection(set2)\n",
    "    count_common_entries = len(common_entries)\n",
    "    \n",
    "    results[idx] = {\n",
    "        'common_entries': count_common_entries,\n",
    "        'graph_similarity': round(sum(out_dict['graph_similarity']) / 10, 2),\n",
    "        'semantic_similarity': round(sum(out_dict['semantic_similarity']) / 10, 2),\n",
    "        'domain': kaggle_dataset[kaggle_dataset['id'] == idx]['domains'].values[0]\n",
    "    }\n",
    "\n",
    "results_df = pd.DataFrame(results).T"
   ]
  },
  {
   "cell_type": "code",
   "execution_count": null,
   "metadata": {},
   "outputs": [],
   "source": [
    "results_df.sort_values('common_entries', ascending=False)"
   ]
  }
 ],
 "metadata": {
  "kernelspec": {
   "display_name": "venv",
   "language": "python",
   "name": "python3"
  },
  "language_info": {
   "codemirror_mode": {
    "name": "ipython",
    "version": 3
   },
   "file_extension": ".py",
   "mimetype": "text/x-python",
   "name": "python",
   "nbconvert_exporter": "python",
   "pygments_lexer": "ipython3",
   "version": "3.12.6"
  }
 },
 "nbformat": 4,
 "nbformat_minor": 2
}
